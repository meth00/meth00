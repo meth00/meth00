{
  "nbformat": 4,
  "nbformat_minor": 0,
  "metadata": {
    "colab": {
      "provenance": [],
      "gpuType": "T4",
      "authorship_tag": "ABX9TyO5DhNwxa3ggiA5EvWHGv6D",
      "include_colab_link": true
    },
    "kernelspec": {
      "name": "python3",
      "display_name": "Python 3"
    },
    "language_info": {
      "name": "python"
    },
    "accelerator": "GPU"
  },
  "cells": [
    {
      "cell_type": "markdown",
      "metadata": {
        "id": "view-in-github",
        "colab_type": "text"
      },
      "source": [
        "<a href=\"https://colab.research.google.com/github/meth00/meth00/blob/main/coxtime_survival_deep_learning.ipynb\" target=\"_parent\"><img src=\"https://colab.research.google.com/assets/colab-badge.svg\" alt=\"Open In Colab\"/></a>"
      ]
    },
    {
      "cell_type": "code",
      "execution_count": null,
      "metadata": {
        "id": "cVF7wWO0I_UG"
      },
      "outputs": [],
      "source": [
        "!pip install pycox\n",
        "!pip install lifelines"
      ]
    },
    {
      "cell_type": "markdown",
      "source": [
        "# Libraries loading"
      ],
      "metadata": {
        "id": "Pr3Pa_lgPxv7"
      }
    },
    {
      "cell_type": "code",
      "source": [
        "import numpy as np\n",
        "import pandas as pd\n",
        "import matplotlib.pyplot as plt\n",
        "\n",
        "# for data preparation\n",
        "from sklearn.preprocessing import StandardScaler\n",
        "from sklearn.model_selection import train_test_split\n",
        "from sklearn_pandas import DataFrameMapper\n",
        "\n",
        "import torch\n",
        "import torch.nn as nn\n",
        "import torchtuples as tt\n",
        "\n",
        "from lifelines import CoxPHFitter\n",
        "from pycox.models import CoxPH as deepsurv # for DeepSurv\n",
        "from pycox.models import CoxTime # for Cox-time\n",
        "from pycox.models.cox_time import MLPVanillaCoxTime # for optmization\n",
        "from pycox.evaluation import EvalSurv # for model evaluation"
      ],
      "metadata": {
        "id": "4WzYga1R3d0z"
      },
      "execution_count": null,
      "outputs": []
    },
    {
      "cell_type": "code",
      "source": [
        "# Set seed to make this reproducable.\n",
        "np.random.seed(1234)\n",
        "_ = torch.manual_seed(123)"
      ],
      "metadata": {
        "id": "VjBgS-RzPWep"
      },
      "execution_count": null,
      "outputs": []
    },
    {
      "cell_type": "markdown",
      "source": [
        "# Data loading"
      ],
      "metadata": {
        "id": "oXu2L8MjP178"
      }
    },
    {
      "cell_type": "code",
      "source": [
        "from pycox.datasets import gbsg\n",
        "df = gbsg.read_df()"
      ],
      "metadata": {
        "id": "59JHzW3qTxJf"
      },
      "execution_count": null,
      "outputs": []
    },
    {
      "cell_type": "code",
      "source": [
        "df.head()"
      ],
      "metadata": {
        "colab": {
          "base_uri": "https://localhost:8080/",
          "height": 206
        },
        "id": "9nYtP80WrxWu",
        "outputId": "30fef7f8-8dec-472b-a9e9-5ed1ac4fe3e1"
      },
      "execution_count": null,
      "outputs": [
        {
          "output_type": "execute_result",
          "data": {
            "text/plain": [
              "    x0   x1   x2    x3   x4     x5     x6   duration  event\n",
              "0  0.0  0.0  0.0  32.0  1.0  155.0  168.0  84.000000      0\n",
              "1  0.0  1.0  0.0  27.0  1.0  717.0   95.0  84.000000      0\n",
              "2  0.0  1.0  1.0  52.0  1.0  120.0  437.0  84.000000      0\n",
              "3  0.0  0.0  0.0  28.0  1.0  251.0   11.0  84.000000      0\n",
              "4  0.0  0.0  0.0  39.0  1.0  241.0   92.0  66.234085      1"
            ],
            "text/html": [
              "\n",
              "  <div id=\"df-58dea1f2-ae4d-4c9b-9a47-b933175c6bda\" class=\"colab-df-container\">\n",
              "    <div>\n",
              "<style scoped>\n",
              "    .dataframe tbody tr th:only-of-type {\n",
              "        vertical-align: middle;\n",
              "    }\n",
              "\n",
              "    .dataframe tbody tr th {\n",
              "        vertical-align: top;\n",
              "    }\n",
              "\n",
              "    .dataframe thead th {\n",
              "        text-align: right;\n",
              "    }\n",
              "</style>\n",
              "<table border=\"1\" class=\"dataframe\">\n",
              "  <thead>\n",
              "    <tr style=\"text-align: right;\">\n",
              "      <th></th>\n",
              "      <th>x0</th>\n",
              "      <th>x1</th>\n",
              "      <th>x2</th>\n",
              "      <th>x3</th>\n",
              "      <th>x4</th>\n",
              "      <th>x5</th>\n",
              "      <th>x6</th>\n",
              "      <th>duration</th>\n",
              "      <th>event</th>\n",
              "    </tr>\n",
              "  </thead>\n",
              "  <tbody>\n",
              "    <tr>\n",
              "      <th>0</th>\n",
              "      <td>0.0</td>\n",
              "      <td>0.0</td>\n",
              "      <td>0.0</td>\n",
              "      <td>32.0</td>\n",
              "      <td>1.0</td>\n",
              "      <td>155.0</td>\n",
              "      <td>168.0</td>\n",
              "      <td>84.000000</td>\n",
              "      <td>0</td>\n",
              "    </tr>\n",
              "    <tr>\n",
              "      <th>1</th>\n",
              "      <td>0.0</td>\n",
              "      <td>1.0</td>\n",
              "      <td>0.0</td>\n",
              "      <td>27.0</td>\n",
              "      <td>1.0</td>\n",
              "      <td>717.0</td>\n",
              "      <td>95.0</td>\n",
              "      <td>84.000000</td>\n",
              "      <td>0</td>\n",
              "    </tr>\n",
              "    <tr>\n",
              "      <th>2</th>\n",
              "      <td>0.0</td>\n",
              "      <td>1.0</td>\n",
              "      <td>1.0</td>\n",
              "      <td>52.0</td>\n",
              "      <td>1.0</td>\n",
              "      <td>120.0</td>\n",
              "      <td>437.0</td>\n",
              "      <td>84.000000</td>\n",
              "      <td>0</td>\n",
              "    </tr>\n",
              "    <tr>\n",
              "      <th>3</th>\n",
              "      <td>0.0</td>\n",
              "      <td>0.0</td>\n",
              "      <td>0.0</td>\n",
              "      <td>28.0</td>\n",
              "      <td>1.0</td>\n",
              "      <td>251.0</td>\n",
              "      <td>11.0</td>\n",
              "      <td>84.000000</td>\n",
              "      <td>0</td>\n",
              "    </tr>\n",
              "    <tr>\n",
              "      <th>4</th>\n",
              "      <td>0.0</td>\n",
              "      <td>0.0</td>\n",
              "      <td>0.0</td>\n",
              "      <td>39.0</td>\n",
              "      <td>1.0</td>\n",
              "      <td>241.0</td>\n",
              "      <td>92.0</td>\n",
              "      <td>66.234085</td>\n",
              "      <td>1</td>\n",
              "    </tr>\n",
              "  </tbody>\n",
              "</table>\n",
              "</div>\n",
              "    <div class=\"colab-df-buttons\">\n",
              "\n",
              "  <div class=\"colab-df-container\">\n",
              "    <button class=\"colab-df-convert\" onclick=\"convertToInteractive('df-58dea1f2-ae4d-4c9b-9a47-b933175c6bda')\"\n",
              "            title=\"Convert this dataframe to an interactive table.\"\n",
              "            style=\"display:none;\">\n",
              "\n",
              "  <svg xmlns=\"http://www.w3.org/2000/svg\" height=\"24px\" viewBox=\"0 -960 960 960\">\n",
              "    <path d=\"M120-120v-720h720v720H120Zm60-500h600v-160H180v160Zm220 220h160v-160H400v160Zm0 220h160v-160H400v160ZM180-400h160v-160H180v160Zm440 0h160v-160H620v160ZM180-180h160v-160H180v160Zm440 0h160v-160H620v160Z\"/>\n",
              "  </svg>\n",
              "    </button>\n",
              "\n",
              "  <style>\n",
              "    .colab-df-container {\n",
              "      display:flex;\n",
              "      gap: 12px;\n",
              "    }\n",
              "\n",
              "    .colab-df-convert {\n",
              "      background-color: #E8F0FE;\n",
              "      border: none;\n",
              "      border-radius: 50%;\n",
              "      cursor: pointer;\n",
              "      display: none;\n",
              "      fill: #1967D2;\n",
              "      height: 32px;\n",
              "      padding: 0 0 0 0;\n",
              "      width: 32px;\n",
              "    }\n",
              "\n",
              "    .colab-df-convert:hover {\n",
              "      background-color: #E2EBFA;\n",
              "      box-shadow: 0px 1px 2px rgba(60, 64, 67, 0.3), 0px 1px 3px 1px rgba(60, 64, 67, 0.15);\n",
              "      fill: #174EA6;\n",
              "    }\n",
              "\n",
              "    .colab-df-buttons div {\n",
              "      margin-bottom: 4px;\n",
              "    }\n",
              "\n",
              "    [theme=dark] .colab-df-convert {\n",
              "      background-color: #3B4455;\n",
              "      fill: #D2E3FC;\n",
              "    }\n",
              "\n",
              "    [theme=dark] .colab-df-convert:hover {\n",
              "      background-color: #434B5C;\n",
              "      box-shadow: 0px 1px 3px 1px rgba(0, 0, 0, 0.15);\n",
              "      filter: drop-shadow(0px 1px 2px rgba(0, 0, 0, 0.3));\n",
              "      fill: #FFFFFF;\n",
              "    }\n",
              "  </style>\n",
              "\n",
              "    <script>\n",
              "      const buttonEl =\n",
              "        document.querySelector('#df-58dea1f2-ae4d-4c9b-9a47-b933175c6bda button.colab-df-convert');\n",
              "      buttonEl.style.display =\n",
              "        google.colab.kernel.accessAllowed ? 'block' : 'none';\n",
              "\n",
              "      async function convertToInteractive(key) {\n",
              "        const element = document.querySelector('#df-58dea1f2-ae4d-4c9b-9a47-b933175c6bda');\n",
              "        const dataTable =\n",
              "          await google.colab.kernel.invokeFunction('convertToInteractive',\n",
              "                                                    [key], {});\n",
              "        if (!dataTable) return;\n",
              "\n",
              "        const docLinkHtml = 'Like what you see? Visit the ' +\n",
              "          '<a target=\"_blank\" href=https://colab.research.google.com/notebooks/data_table.ipynb>data table notebook</a>'\n",
              "          + ' to learn more about interactive tables.';\n",
              "        element.innerHTML = '';\n",
              "        dataTable['output_type'] = 'display_data';\n",
              "        await google.colab.output.renderOutput(dataTable, element);\n",
              "        const docLink = document.createElement('div');\n",
              "        docLink.innerHTML = docLinkHtml;\n",
              "        element.appendChild(docLink);\n",
              "      }\n",
              "    </script>\n",
              "  </div>\n",
              "\n",
              "\n",
              "<div id=\"df-93e1d565-9cb2-4213-a67e-3ffdc1d98ccb\">\n",
              "  <button class=\"colab-df-quickchart\" onclick=\"quickchart('df-93e1d565-9cb2-4213-a67e-3ffdc1d98ccb')\"\n",
              "            title=\"Suggest charts\"\n",
              "            style=\"display:none;\">\n",
              "\n",
              "<svg xmlns=\"http://www.w3.org/2000/svg\" height=\"24px\"viewBox=\"0 0 24 24\"\n",
              "     width=\"24px\">\n",
              "    <g>\n",
              "        <path d=\"M19 3H5c-1.1 0-2 .9-2 2v14c0 1.1.9 2 2 2h14c1.1 0 2-.9 2-2V5c0-1.1-.9-2-2-2zM9 17H7v-7h2v7zm4 0h-2V7h2v10zm4 0h-2v-4h2v4z\"/>\n",
              "    </g>\n",
              "</svg>\n",
              "  </button>\n",
              "\n",
              "<style>\n",
              "  .colab-df-quickchart {\n",
              "      --bg-color: #E8F0FE;\n",
              "      --fill-color: #1967D2;\n",
              "      --hover-bg-color: #E2EBFA;\n",
              "      --hover-fill-color: #174EA6;\n",
              "      --disabled-fill-color: #AAA;\n",
              "      --disabled-bg-color: #DDD;\n",
              "  }\n",
              "\n",
              "  [theme=dark] .colab-df-quickchart {\n",
              "      --bg-color: #3B4455;\n",
              "      --fill-color: #D2E3FC;\n",
              "      --hover-bg-color: #434B5C;\n",
              "      --hover-fill-color: #FFFFFF;\n",
              "      --disabled-bg-color: #3B4455;\n",
              "      --disabled-fill-color: #666;\n",
              "  }\n",
              "\n",
              "  .colab-df-quickchart {\n",
              "    background-color: var(--bg-color);\n",
              "    border: none;\n",
              "    border-radius: 50%;\n",
              "    cursor: pointer;\n",
              "    display: none;\n",
              "    fill: var(--fill-color);\n",
              "    height: 32px;\n",
              "    padding: 0;\n",
              "    width: 32px;\n",
              "  }\n",
              "\n",
              "  .colab-df-quickchart:hover {\n",
              "    background-color: var(--hover-bg-color);\n",
              "    box-shadow: 0 1px 2px rgba(60, 64, 67, 0.3), 0 1px 3px 1px rgba(60, 64, 67, 0.15);\n",
              "    fill: var(--button-hover-fill-color);\n",
              "  }\n",
              "\n",
              "  .colab-df-quickchart-complete:disabled,\n",
              "  .colab-df-quickchart-complete:disabled:hover {\n",
              "    background-color: var(--disabled-bg-color);\n",
              "    fill: var(--disabled-fill-color);\n",
              "    box-shadow: none;\n",
              "  }\n",
              "\n",
              "  .colab-df-spinner {\n",
              "    border: 2px solid var(--fill-color);\n",
              "    border-color: transparent;\n",
              "    border-bottom-color: var(--fill-color);\n",
              "    animation:\n",
              "      spin 1s steps(1) infinite;\n",
              "  }\n",
              "\n",
              "  @keyframes spin {\n",
              "    0% {\n",
              "      border-color: transparent;\n",
              "      border-bottom-color: var(--fill-color);\n",
              "      border-left-color: var(--fill-color);\n",
              "    }\n",
              "    20% {\n",
              "      border-color: transparent;\n",
              "      border-left-color: var(--fill-color);\n",
              "      border-top-color: var(--fill-color);\n",
              "    }\n",
              "    30% {\n",
              "      border-color: transparent;\n",
              "      border-left-color: var(--fill-color);\n",
              "      border-top-color: var(--fill-color);\n",
              "      border-right-color: var(--fill-color);\n",
              "    }\n",
              "    40% {\n",
              "      border-color: transparent;\n",
              "      border-right-color: var(--fill-color);\n",
              "      border-top-color: var(--fill-color);\n",
              "    }\n",
              "    60% {\n",
              "      border-color: transparent;\n",
              "      border-right-color: var(--fill-color);\n",
              "    }\n",
              "    80% {\n",
              "      border-color: transparent;\n",
              "      border-right-color: var(--fill-color);\n",
              "      border-bottom-color: var(--fill-color);\n",
              "    }\n",
              "    90% {\n",
              "      border-color: transparent;\n",
              "      border-bottom-color: var(--fill-color);\n",
              "    }\n",
              "  }\n",
              "</style>\n",
              "\n",
              "  <script>\n",
              "    async function quickchart(key) {\n",
              "      const quickchartButtonEl =\n",
              "        document.querySelector('#' + key + ' button');\n",
              "      quickchartButtonEl.disabled = true;  // To prevent multiple clicks.\n",
              "      quickchartButtonEl.classList.add('colab-df-spinner');\n",
              "      try {\n",
              "        const charts = await google.colab.kernel.invokeFunction(\n",
              "            'suggestCharts', [key], {});\n",
              "      } catch (error) {\n",
              "        console.error('Error during call to suggestCharts:', error);\n",
              "      }\n",
              "      quickchartButtonEl.classList.remove('colab-df-spinner');\n",
              "      quickchartButtonEl.classList.add('colab-df-quickchart-complete');\n",
              "    }\n",
              "    (() => {\n",
              "      let quickchartButtonEl =\n",
              "        document.querySelector('#df-93e1d565-9cb2-4213-a67e-3ffdc1d98ccb button');\n",
              "      quickchartButtonEl.style.display =\n",
              "        google.colab.kernel.accessAllowed ? 'block' : 'none';\n",
              "    })();\n",
              "  </script>\n",
              "</div>\n",
              "\n",
              "    </div>\n",
              "  </div>\n"
            ],
            "application/vnd.google.colaboratory.intrinsic+json": {
              "type": "dataframe",
              "variable_name": "df",
              "summary": "{\n  \"name\": \"df\",\n  \"rows\": 2232,\n  \"fields\": [\n    {\n      \"column\": \"x0\",\n      \"properties\": {\n        \"dtype\": \"float32\",\n        \"num_unique_values\": 2,\n        \"samples\": [\n          1.0,\n          0.0\n        ],\n        \"semantic_type\": \"\",\n        \"description\": \"\"\n      }\n    },\n    {\n      \"column\": \"x1\",\n      \"properties\": {\n        \"dtype\": \"float32\",\n        \"num_unique_values\": 3,\n        \"samples\": [\n          0.0,\n          1.0\n        ],\n        \"semantic_type\": \"\",\n        \"description\": \"\"\n      }\n    },\n    {\n      \"column\": \"x2\",\n      \"properties\": {\n        \"dtype\": \"float32\",\n        \"num_unique_values\": 2,\n        \"samples\": [\n          1.0,\n          0.0\n        ],\n        \"semantic_type\": \"\",\n        \"description\": \"\"\n      }\n    },\n    {\n      \"column\": \"x3\",\n      \"properties\": {\n        \"dtype\": \"float32\",\n        \"num_unique_values\": 68,\n        \"samples\": [\n          70.0,\n          47.0\n        ],\n        \"semantic_type\": \"\",\n        \"description\": \"\"\n      }\n    },\n    {\n      \"column\": \"x4\",\n      \"properties\": {\n        \"dtype\": \"float32\",\n        \"num_unique_values\": 33,\n        \"samples\": [\n          36.0,\n          15.0\n        ],\n        \"semantic_type\": \"\",\n        \"description\": \"\"\n      }\n    },\n    {\n      \"column\": \"x5\",\n      \"properties\": {\n        \"dtype\": \"float32\",\n        \"num_unique_values\": 513,\n        \"samples\": [\n          156.0,\n          912.0\n        ],\n        \"semantic_type\": \"\",\n        \"description\": \"\"\n      }\n    },\n    {\n      \"column\": \"x6\",\n      \"properties\": {\n        \"dtype\": \"float32\",\n        \"num_unique_values\": 513,\n        \"samples\": [\n          1211.0,\n          533.0\n        ],\n        \"semantic_type\": \"\",\n        \"description\": \"\"\n      }\n    },\n    {\n      \"column\": \"duration\",\n      \"properties\": {\n        \"dtype\": \"float32\",\n        \"num_unique_values\": 1230,\n        \"samples\": [\n          31.27720832824707,\n          12.090349197387695\n        ],\n        \"semantic_type\": \"\",\n        \"description\": \"\"\n      }\n    },\n    {\n      \"column\": \"event\",\n      \"properties\": {\n        \"dtype\": \"int32\",\n        \"num_unique_values\": 2,\n        \"samples\": [\n          1,\n          0\n        ],\n        \"semantic_type\": \"\",\n        \"description\": \"\"\n      }\n    }\n  ]\n}"
            }
          },
          "metadata": {},
          "execution_count": 122
        }
      ]
    },
    {
      "cell_type": "code",
      "source": [
        "# Summary of the dataset\n",
        "pd.DataFrame({\n",
        "    \"Total Observations\": [len(df)],\n",
        "    \"Censored (Event=0)\": [(df['event'] == 0).sum()],\n",
        "    \"Observed Events (Event=1)\": [(df['event'] == 1).sum()],\n",
        "    \"Number of Features\": [df.shape[1] - 2]\n",
        "}, index=[\"gbsd\"])"
      ],
      "metadata": {
        "colab": {
          "base_uri": "https://localhost:8080/",
          "height": 81
        },
        "id": "ZjWNdD5-6Jr4",
        "outputId": "91547f74-4d87-4e68-d7e3-f1f731907fff"
      },
      "execution_count": null,
      "outputs": [
        {
          "output_type": "execute_result",
          "data": {
            "text/plain": [
              "      Total Observations  Censored (Event=0)  Observed Events (Event=1)  \\\n",
              "gbsd                2232                 965                       1267   \n",
              "\n",
              "      Number of Features  \n",
              "gbsd                   7  "
            ],
            "text/html": [
              "\n",
              "  <div id=\"df-ab0ca91e-b989-4d04-9e4a-ed6ce54e1955\" class=\"colab-df-container\">\n",
              "    <div>\n",
              "<style scoped>\n",
              "    .dataframe tbody tr th:only-of-type {\n",
              "        vertical-align: middle;\n",
              "    }\n",
              "\n",
              "    .dataframe tbody tr th {\n",
              "        vertical-align: top;\n",
              "    }\n",
              "\n",
              "    .dataframe thead th {\n",
              "        text-align: right;\n",
              "    }\n",
              "</style>\n",
              "<table border=\"1\" class=\"dataframe\">\n",
              "  <thead>\n",
              "    <tr style=\"text-align: right;\">\n",
              "      <th></th>\n",
              "      <th>Total Observations</th>\n",
              "      <th>Censored (Event=0)</th>\n",
              "      <th>Observed Events (Event=1)</th>\n",
              "      <th>Number of Features</th>\n",
              "    </tr>\n",
              "  </thead>\n",
              "  <tbody>\n",
              "    <tr>\n",
              "      <th>gbsd</th>\n",
              "      <td>2232</td>\n",
              "      <td>965</td>\n",
              "      <td>1267</td>\n",
              "      <td>7</td>\n",
              "    </tr>\n",
              "  </tbody>\n",
              "</table>\n",
              "</div>\n",
              "    <div class=\"colab-df-buttons\">\n",
              "\n",
              "  <div class=\"colab-df-container\">\n",
              "    <button class=\"colab-df-convert\" onclick=\"convertToInteractive('df-ab0ca91e-b989-4d04-9e4a-ed6ce54e1955')\"\n",
              "            title=\"Convert this dataframe to an interactive table.\"\n",
              "            style=\"display:none;\">\n",
              "\n",
              "  <svg xmlns=\"http://www.w3.org/2000/svg\" height=\"24px\" viewBox=\"0 -960 960 960\">\n",
              "    <path d=\"M120-120v-720h720v720H120Zm60-500h600v-160H180v160Zm220 220h160v-160H400v160Zm0 220h160v-160H400v160ZM180-400h160v-160H180v160Zm440 0h160v-160H620v160ZM180-180h160v-160H180v160Zm440 0h160v-160H620v160Z\"/>\n",
              "  </svg>\n",
              "    </button>\n",
              "\n",
              "  <style>\n",
              "    .colab-df-container {\n",
              "      display:flex;\n",
              "      gap: 12px;\n",
              "    }\n",
              "\n",
              "    .colab-df-convert {\n",
              "      background-color: #E8F0FE;\n",
              "      border: none;\n",
              "      border-radius: 50%;\n",
              "      cursor: pointer;\n",
              "      display: none;\n",
              "      fill: #1967D2;\n",
              "      height: 32px;\n",
              "      padding: 0 0 0 0;\n",
              "      width: 32px;\n",
              "    }\n",
              "\n",
              "    .colab-df-convert:hover {\n",
              "      background-color: #E2EBFA;\n",
              "      box-shadow: 0px 1px 2px rgba(60, 64, 67, 0.3), 0px 1px 3px 1px rgba(60, 64, 67, 0.15);\n",
              "      fill: #174EA6;\n",
              "    }\n",
              "\n",
              "    .colab-df-buttons div {\n",
              "      margin-bottom: 4px;\n",
              "    }\n",
              "\n",
              "    [theme=dark] .colab-df-convert {\n",
              "      background-color: #3B4455;\n",
              "      fill: #D2E3FC;\n",
              "    }\n",
              "\n",
              "    [theme=dark] .colab-df-convert:hover {\n",
              "      background-color: #434B5C;\n",
              "      box-shadow: 0px 1px 3px 1px rgba(0, 0, 0, 0.15);\n",
              "      filter: drop-shadow(0px 1px 2px rgba(0, 0, 0, 0.3));\n",
              "      fill: #FFFFFF;\n",
              "    }\n",
              "  </style>\n",
              "\n",
              "    <script>\n",
              "      const buttonEl =\n",
              "        document.querySelector('#df-ab0ca91e-b989-4d04-9e4a-ed6ce54e1955 button.colab-df-convert');\n",
              "      buttonEl.style.display =\n",
              "        google.colab.kernel.accessAllowed ? 'block' : 'none';\n",
              "\n",
              "      async function convertToInteractive(key) {\n",
              "        const element = document.querySelector('#df-ab0ca91e-b989-4d04-9e4a-ed6ce54e1955');\n",
              "        const dataTable =\n",
              "          await google.colab.kernel.invokeFunction('convertToInteractive',\n",
              "                                                    [key], {});\n",
              "        if (!dataTable) return;\n",
              "\n",
              "        const docLinkHtml = 'Like what you see? Visit the ' +\n",
              "          '<a target=\"_blank\" href=https://colab.research.google.com/notebooks/data_table.ipynb>data table notebook</a>'\n",
              "          + ' to learn more about interactive tables.';\n",
              "        element.innerHTML = '';\n",
              "        dataTable['output_type'] = 'display_data';\n",
              "        await google.colab.output.renderOutput(dataTable, element);\n",
              "        const docLink = document.createElement('div');\n",
              "        docLink.innerHTML = docLinkHtml;\n",
              "        element.appendChild(docLink);\n",
              "      }\n",
              "    </script>\n",
              "  </div>\n",
              "\n",
              "\n",
              "    </div>\n",
              "  </div>\n"
            ],
            "application/vnd.google.colaboratory.intrinsic+json": {
              "type": "dataframe",
              "summary": "{\n  \"name\": \"}, index=[\\\"gbsd\\\"])\",\n  \"rows\": 1,\n  \"fields\": [\n    {\n      \"column\": \"Total Observations\",\n      \"properties\": {\n        \"dtype\": \"number\",\n        \"std\": null,\n        \"min\": 2232,\n        \"max\": 2232,\n        \"num_unique_values\": 1,\n        \"samples\": [\n          2232\n        ],\n        \"semantic_type\": \"\",\n        \"description\": \"\"\n      }\n    },\n    {\n      \"column\": \"Censored (Event=0)\",\n      \"properties\": {\n        \"dtype\": \"number\",\n        \"std\": null,\n        \"min\": 965,\n        \"max\": 965,\n        \"num_unique_values\": 1,\n        \"samples\": [\n          965\n        ],\n        \"semantic_type\": \"\",\n        \"description\": \"\"\n      }\n    },\n    {\n      \"column\": \"Observed Events (Event=1)\",\n      \"properties\": {\n        \"dtype\": \"number\",\n        \"std\": null,\n        \"min\": 1267,\n        \"max\": 1267,\n        \"num_unique_values\": 1,\n        \"samples\": [\n          1267\n        ],\n        \"semantic_type\": \"\",\n        \"description\": \"\"\n      }\n    },\n    {\n      \"column\": \"Number of Features\",\n      \"properties\": {\n        \"dtype\": \"number\",\n        \"std\": null,\n        \"min\": 7,\n        \"max\": 7,\n        \"num_unique_values\": 1,\n        \"samples\": [\n          7\n        ],\n        \"semantic_type\": \"\",\n        \"description\": \"\"\n      }\n    }\n  ]\n}"
            }
          },
          "metadata": {},
          "execution_count": 123
        }
      ]
    },
    {
      "cell_type": "markdown",
      "source": [
        "# Data formatting"
      ],
      "metadata": {
        "id": "daKJn1yy9sAu"
      }
    },
    {
      "cell_type": "code",
      "source": [
        "# Train, validation and test\n",
        "df_train, df_test = train_test_split(df,test_size=0.2, random_state=42\n",
        ")\n",
        "df_train, df_val = train_test_split(df_train,test_size=0.2, random_state=42\n",
        ")"
      ],
      "metadata": {
        "id": "gc74SUs49rCt"
      },
      "execution_count": null,
      "outputs": []
    },
    {
      "cell_type": "markdown",
      "source": [
        "Features standardization"
      ],
      "metadata": {
        "id": "uwxPAC_k_iHF"
      }
    },
    {
      "cell_type": "code",
      "source": [
        "features = df.columns.drop(['event', 'duration'])\n",
        "standardize = [([col], StandardScaler()) for col in features]\n",
        "x_mapper = DataFrameMapper(standardize)\n",
        "x_train = x_mapper.fit_transform(df_train).astype('float32')\n",
        "x_val = x_mapper.transform(df_val).astype('float32')\n",
        "x_test = x_mapper.transform(df_test).astype('float32')"
      ],
      "metadata": {
        "id": "hp5jZkOA8WHf"
      },
      "execution_count": null,
      "outputs": []
    },
    {
      "cell_type": "markdown",
      "source": [
        "Target standardization"
      ],
      "metadata": {
        "id": "b8mPhba7_7Z4"
      }
    },
    {
      "cell_type": "code",
      "source": [
        "labtrans = CoxTime.label_transform()\n",
        "\n",
        "get_target = lambda df: (df['duration'].values, df['event'].values)\n",
        "\n",
        "y_train = labtrans.fit_transform(*get_target(df_train))\n",
        "durations_test, events_test = get_target(df_test)\n",
        "\n",
        "y_val = labtrans.transform(*get_target(df_val))\n",
        "val = tt.tuplefy(x_val, y_val)"
      ],
      "metadata": {
        "id": "n0rhiOg0-rlh"
      },
      "execution_count": null,
      "outputs": []
    },
    {
      "cell_type": "code",
      "source": [
        "get_target(df_train)"
      ],
      "metadata": {
        "colab": {
          "base_uri": "https://localhost:8080/"
        },
        "id": "m1t64OV7Ms5B",
        "outputId": "da8dcda0-7526-4c0a-8b54-218662315b9b"
      },
      "execution_count": null,
      "outputs": [
        {
          "output_type": "execute_result",
          "data": {
            "text/plain": [
              "(array([15.737166, 38.01232 , 84.      , ..., 35.81109 , 17.774128,\n",
              "        44.451744], dtype=float32),\n",
              " array([1, 1, 0, ..., 0, 0, 1], dtype=int32))"
            ]
          },
          "metadata": {},
          "execution_count": 127
        }
      ]
    },
    {
      "cell_type": "markdown",
      "source": [
        "# Coxtime"
      ],
      "metadata": {
        "id": "U75PKon2uNRC"
      }
    },
    {
      "cell_type": "markdown",
      "source": [
        "## Proportional Hazard assumption"
      ],
      "metadata": {
        "id": "91ioQkOS8IYK"
      }
    },
    {
      "cell_type": "code",
      "source": [
        "# Fit a Cox model\n",
        "cph = CoxPHFitter()\n",
        "cph.fit(df, duration_col=\"duration\", event_col=\"event\")\n",
        "\n",
        "# Perform Schoenfeld residuals test\n",
        "cph.check_assumptions(df, p_value_threshold=0.05)"
      ],
      "metadata": {
        "colab": {
          "base_uri": "https://localhost:8080/",
          "height": 1000
        },
        "id": "j2vdsbBI5Roq",
        "outputId": "10cdd71e-7635-4edc-80ac-7cfa449e2a73"
      },
      "execution_count": null,
      "outputs": [
        {
          "output_type": "stream",
          "name": "stdout",
          "text": [
            "The ``p_value_threshold`` is set at 0.05. Even under the null hypothesis of no violations, some\n",
            "covariates will be below the threshold by chance. This is compounded when there are many covariates.\n",
            "Similarly, when there are lots of observations, even minor deviances from the proportional hazard\n",
            "assumption will be flagged.\n",
            "\n",
            "With that in mind, it's best to use a combination of statistical tests and visual tests to determine\n",
            "the most serious violations. Produce visual plots using ``check_assumptions(..., show_plots=True)``\n",
            "and looking for non-constant lines. See link [A] below for a full example.\n",
            "\n"
          ]
        },
        {
          "output_type": "display_data",
          "data": {
            "text/plain": [
              "<lifelines.StatisticalResult: proportional_hazard_test>\n",
              " null_distribution = chi squared\n",
              "degrees_of_freedom = 1\n",
              "             model = <lifelines.CoxPHFitter: fitted with 2232 total observations, 965 right-censored observations>\n",
              "         test_name = proportional_hazard_test\n",
              "\n",
              "---\n",
              "         test_statistic      p  -log2(p)\n",
              "x0 km              5.99   0.01      6.12\n",
              "   rank            5.85   0.02      6.01\n",
              "x1 km              7.29   0.01      7.18\n",
              "   rank            7.41   0.01      7.27\n",
              "x2 km              4.24   0.04      4.66\n",
              "   rank            4.20   0.04      4.63\n",
              "x3 km              2.68   0.10      3.30\n",
              "   rank            2.45   0.12      3.09\n",
              "x4 km              0.06   0.80      0.32\n",
              "   rank            0.06   0.81      0.30\n",
              "x5 km              8.89 <0.005      8.45\n",
              "   rank            8.33 <0.005      8.00\n",
              "x6 km             16.15 <0.005     14.06\n",
              "   rank           16.25 <0.005     14.14"
            ],
            "text/html": [
              "<div>\n",
              "<style scoped>\n",
              "    .dataframe tbody tr th:only-of-type {\n",
              "        vertical-align: middle;\n",
              "    }\n",
              "\n",
              "    .dataframe tbody tr th {\n",
              "        vertical-align: top;\n",
              "    }\n",
              "\n",
              "    .dataframe thead th {\n",
              "        text-align: right;\n",
              "    }\n",
              "</style>\n",
              "<table border=\"1\" class=\"dataframe\">\n",
              "  <tbody>\n",
              "    <tr>\n",
              "      <th>null_distribution</th>\n",
              "      <td>chi squared</td>\n",
              "    </tr>\n",
              "    <tr>\n",
              "      <th>degrees_of_freedom</th>\n",
              "      <td>1</td>\n",
              "    </tr>\n",
              "    <tr>\n",
              "      <th>model</th>\n",
              "      <td>&lt;lifelines.CoxPHFitter: fitted with 2232 total...</td>\n",
              "    </tr>\n",
              "    <tr>\n",
              "      <th>test_name</th>\n",
              "      <td>proportional_hazard_test</td>\n",
              "    </tr>\n",
              "  </tbody>\n",
              "</table>\n",
              "</div><table border=\"1\" class=\"dataframe\">\n",
              "  <thead>\n",
              "    <tr style=\"text-align: right;\">\n",
              "      <th></th>\n",
              "      <th></th>\n",
              "      <th>test_statistic</th>\n",
              "      <th>p</th>\n",
              "      <th>-log2(p)</th>\n",
              "    </tr>\n",
              "  </thead>\n",
              "  <tbody>\n",
              "    <tr>\n",
              "      <th rowspan=\"2\" valign=\"top\">x0</th>\n",
              "      <th>km</th>\n",
              "      <td>5.99</td>\n",
              "      <td>0.01</td>\n",
              "      <td>6.12</td>\n",
              "    </tr>\n",
              "    <tr>\n",
              "      <th>rank</th>\n",
              "      <td>5.85</td>\n",
              "      <td>0.02</td>\n",
              "      <td>6.01</td>\n",
              "    </tr>\n",
              "    <tr>\n",
              "      <th rowspan=\"2\" valign=\"top\">x1</th>\n",
              "      <th>km</th>\n",
              "      <td>7.29</td>\n",
              "      <td>0.01</td>\n",
              "      <td>7.18</td>\n",
              "    </tr>\n",
              "    <tr>\n",
              "      <th>rank</th>\n",
              "      <td>7.41</td>\n",
              "      <td>0.01</td>\n",
              "      <td>7.27</td>\n",
              "    </tr>\n",
              "    <tr>\n",
              "      <th rowspan=\"2\" valign=\"top\">x2</th>\n",
              "      <th>km</th>\n",
              "      <td>4.24</td>\n",
              "      <td>0.04</td>\n",
              "      <td>4.66</td>\n",
              "    </tr>\n",
              "    <tr>\n",
              "      <th>rank</th>\n",
              "      <td>4.20</td>\n",
              "      <td>0.04</td>\n",
              "      <td>4.63</td>\n",
              "    </tr>\n",
              "    <tr>\n",
              "      <th rowspan=\"2\" valign=\"top\">x3</th>\n",
              "      <th>km</th>\n",
              "      <td>2.68</td>\n",
              "      <td>0.10</td>\n",
              "      <td>3.30</td>\n",
              "    </tr>\n",
              "    <tr>\n",
              "      <th>rank</th>\n",
              "      <td>2.45</td>\n",
              "      <td>0.12</td>\n",
              "      <td>3.09</td>\n",
              "    </tr>\n",
              "    <tr>\n",
              "      <th rowspan=\"2\" valign=\"top\">x4</th>\n",
              "      <th>km</th>\n",
              "      <td>0.06</td>\n",
              "      <td>0.80</td>\n",
              "      <td>0.32</td>\n",
              "    </tr>\n",
              "    <tr>\n",
              "      <th>rank</th>\n",
              "      <td>0.06</td>\n",
              "      <td>0.81</td>\n",
              "      <td>0.30</td>\n",
              "    </tr>\n",
              "    <tr>\n",
              "      <th rowspan=\"2\" valign=\"top\">x5</th>\n",
              "      <th>km</th>\n",
              "      <td>8.89</td>\n",
              "      <td>&lt;0.005</td>\n",
              "      <td>8.45</td>\n",
              "    </tr>\n",
              "    <tr>\n",
              "      <th>rank</th>\n",
              "      <td>8.33</td>\n",
              "      <td>&lt;0.005</td>\n",
              "      <td>8.00</td>\n",
              "    </tr>\n",
              "    <tr>\n",
              "      <th rowspan=\"2\" valign=\"top\">x6</th>\n",
              "      <th>km</th>\n",
              "      <td>16.15</td>\n",
              "      <td>&lt;0.005</td>\n",
              "      <td>14.06</td>\n",
              "    </tr>\n",
              "    <tr>\n",
              "      <th>rank</th>\n",
              "      <td>16.25</td>\n",
              "      <td>&lt;0.005</td>\n",
              "      <td>14.14</td>\n",
              "    </tr>\n",
              "  </tbody>\n",
              "</table>"
            ],
            "text/latex": "\\begin{tabular}{llrrr}\n &  & test_statistic & p & -log2(p) \\\\\n\\multirow[c]{2}{*}{x0} & km & 5.99 & 0.01 & 6.12 \\\\\n & rank & 5.85 & 0.02 & 6.01 \\\\\n\\multirow[c]{2}{*}{x1} & km & 7.29 & 0.01 & 7.18 \\\\\n & rank & 7.41 & 0.01 & 7.27 \\\\\n\\multirow[c]{2}{*}{x2} & km & 4.24 & 0.04 & 4.66 \\\\\n & rank & 4.20 & 0.04 & 4.63 \\\\\n\\multirow[c]{2}{*}{x3} & km & 2.68 & 0.10 & 3.30 \\\\\n & rank & 2.45 & 0.12 & 3.09 \\\\\n\\multirow[c]{2}{*}{x4} & km & 0.06 & 0.80 & 0.32 \\\\\n & rank & 0.06 & 0.81 & 0.30 \\\\\n\\multirow[c]{2}{*}{x5} & km & 8.89 & 0.00 & 8.45 \\\\\n & rank & 8.33 & 0.00 & 8.00 \\\\\n\\multirow[c]{2}{*}{x6} & km & 16.15 & 0.00 & 14.06 \\\\\n & rank & 16.25 & 0.00 & 14.14 \\\\\n\\end{tabular}\n"
          },
          "metadata": {}
        },
        {
          "output_type": "stream",
          "name": "stdout",
          "text": [
            "\n",
            "\n",
            "1. Variable 'x0' failed the non-proportional test: p-value is 0.0144.\n",
            "\n",
            "   Advice: with so few unique values (only 2), you can include `strata=['x0', ...]` in the call in\n",
            "`.fit`. See documentation in link [E] below.\n",
            "\n",
            "2. Variable 'x1' failed the non-proportional test: p-value is 0.0065.\n",
            "\n",
            "   Advice: with so few unique values (only 3), you can include `strata=['x1', ...]` in the call in\n",
            "`.fit`. See documentation in link [E] below.\n",
            "\n",
            "3. Variable 'x2' failed the non-proportional test: p-value is 0.0394.\n",
            "\n",
            "   Advice: with so few unique values (only 2), you can include `strata=['x2', ...]` in the call in\n",
            "`.fit`. See documentation in link [E] below.\n",
            "\n",
            "4. Variable 'x5' failed the non-proportional test: p-value is 0.0029.\n",
            "\n",
            "   Advice 1: the functional form of the variable 'x5' might be incorrect. That is, there may be non-\n",
            "linear terms missing. The proportional hazard test used is very sensitive to incorrect functional\n",
            "forms. See documentation in link [D] below on how to specify a functional form.\n",
            "\n",
            "   Advice 2: try binning the variable 'x5' using pd.cut, and then specify it in `strata=['x5', ...]`\n",
            "in the call in `.fit`. See documentation in link [B] below.\n",
            "\n",
            "   Advice 3: try adding an interaction term with your time variable. See documentation in link [C]\n",
            "below.\n",
            "\n",
            "\n",
            "5. Variable 'x6' failed the non-proportional test: p-value is 0.0001.\n",
            "\n",
            "   Advice 1: the functional form of the variable 'x6' might be incorrect. That is, there may be non-\n",
            "linear terms missing. The proportional hazard test used is very sensitive to incorrect functional\n",
            "forms. See documentation in link [D] below on how to specify a functional form.\n",
            "\n",
            "   Advice 2: try binning the variable 'x6' using pd.cut, and then specify it in `strata=['x6', ...]`\n",
            "in the call in `.fit`. See documentation in link [B] below.\n",
            "\n",
            "   Advice 3: try adding an interaction term with your time variable. See documentation in link [C]\n",
            "below.\n",
            "\n",
            "\n",
            "---\n",
            "[A]  https://lifelines.readthedocs.io/en/latest/jupyter_notebooks/Proportional%20hazard%20assumption.html\n",
            "[B]  https://lifelines.readthedocs.io/en/latest/jupyter_notebooks/Proportional%20hazard%20assumption.html#Bin-variable-and-stratify-on-it\n",
            "[C]  https://lifelines.readthedocs.io/en/latest/jupyter_notebooks/Proportional%20hazard%20assumption.html#Introduce-time-varying-covariates\n",
            "[D]  https://lifelines.readthedocs.io/en/latest/jupyter_notebooks/Proportional%20hazard%20assumption.html#Modify-the-functional-form\n",
            "[E]  https://lifelines.readthedocs.io/en/latest/jupyter_notebooks/Proportional%20hazard%20assumption.html#Stratification\n",
            "\n"
          ]
        },
        {
          "output_type": "execute_result",
          "data": {
            "text/plain": [
              "[]"
            ]
          },
          "metadata": {},
          "execution_count": 128
        }
      ]
    },
    {
      "cell_type": "markdown",
      "source": [
        "## Neural network\n",
        "\n",
        "This is simple MLP with two hidden layers, ReLU activations, batch norm and dropout.\n"
      ],
      "metadata": {
        "id": "ni5CRq7iFlBv"
      }
    },
    {
      "cell_type": "code",
      "source": [
        "device = torch.device(\"cuda\" if torch.cuda.is_available() else \"cpu\")"
      ],
      "metadata": {
        "id": "wWDq-CyrraF6"
      },
      "execution_count": null,
      "outputs": []
    },
    {
      "cell_type": "code",
      "source": [
        "# Extracted from  George H. Chen (survival_intro) to resolve nn.forward error\n",
        "\n",
        "num_input_features = x_train.shape[1] + 1  # add 1 more for time\n",
        "base_neural_net = nn.Sequential(\n",
        "    nn.Linear(num_input_features, 64),  # Input to First Hidden Layer\n",
        "    nn.BatchNorm1d(64),                 # Batch Normalization\n",
        "    nn.ReLU(),                          # Activation\n",
        "    nn.Dropout(0.2),                    # Dropout\n",
        "\n",
        "    nn.Linear(64, 32),                   # First Hidden to Second Hidden Layer\n",
        "    nn.BatchNorm1d(32),                  # Batch Normalization\n",
        "    nn.ReLU(),                           # Activation\n",
        "    nn.Dropout(0.2),                     # Dropout\n",
        "nn.Linear(32, 1)).to(device)\n",
        "\n",
        "# PyCox's CoxTime expects the base neural net's forward function to take in two\n",
        "# separate inputs: the features and time (take a look at the forward function)\n",
        "\n",
        "class CoxTimeBaseNeuralNetWrapper(nn.Module):\n",
        "    def __init__(self, base_neural_net):\n",
        "        super(CoxTimeBaseNeuralNetWrapper, self).__init__()\n",
        "        self.net = base_neural_net\n",
        "\n",
        "    def forward(self, inputs_excluding_times, times):\n",
        "        inputs = torch.cat([inputs_excluding_times, times], dim=1)\n",
        "        return self.net(inputs)\n",
        "\n",
        "base_neural_net_wrapper = CoxTimeBaseNeuralNetWrapper(base_neural_net)\n"
      ],
      "metadata": {
        "id": "iBErA51v2QBZ"
      },
      "execution_count": null,
      "outputs": []
    },
    {
      "cell_type": "markdown",
      "source": [
        "We have built a feed forward neural network with 2 hidden layers."
      ],
      "metadata": {
        "id": "eAWgHtS8prQ5"
      }
    },
    {
      "cell_type": "markdown",
      "source": [
        "## Model training"
      ],
      "metadata": {
        "id": "bqGq6gIiHjCG"
      }
    },
    {
      "cell_type": "code",
      "source": [
        "model_Coxtime = CoxTime(base_neural_net_wrapper, labtrans = labtrans, optimizer= tt.optim.Adam(lr = 0.1))"
      ],
      "metadata": {
        "id": "k1dZ6rsL2x7Y"
      },
      "execution_count": null,
      "outputs": []
    },
    {
      "cell_type": "code",
      "source": [
        "batch_size = 364\n",
        "epochs = 70\n",
        "callbacks = [tt.callbacks.EarlyStopping(patience=20)]\n",
        "verbose = False\n",
        "\n",
        "log = model_Coxtime.fit(x_train, y_train, batch_size, epochs, callbacks, verbose,\n",
        "                val_data=val.repeat(10).cat())"
      ],
      "metadata": {
        "colab": {
          "base_uri": "https://localhost:8080/"
        },
        "id": "98nGiy9LsK8f",
        "outputId": "8c644687-065b-4872-9b37-db35c5ca4222"
      },
      "execution_count": null,
      "outputs": [
        {
          "output_type": "stream",
          "name": "stderr",
          "text": [
            "/usr/local/lib/python3.11/dist-packages/torchtuples/base.py:669: FutureWarning: You are using `torch.load` with `weights_only=False` (the current default value), which uses the default pickle module implicitly. It is possible to construct malicious pickle data which will execute arbitrary code during unpickling (See https://github.com/pytorch/pytorch/blob/main/SECURITY.md#untrusted-models for more details). In a future release, the default value for `weights_only` will be flipped to `True`. This limits the functions that could be executed during unpickling. Arbitrary objects will no longer be allowed to be loaded via this mode unless they are explicitly allowlisted by the user via `torch.serialization.add_safe_globals`. We recommend you start setting `weights_only=True` for any use case where you don't have full control of the loaded file. Please open an issue on GitHub for any issues related to this experimental feature.\n",
            "  self.net.load_state_dict(torch.load(path, **kwargs))\n"
          ]
        }
      ]
    },
    {
      "cell_type": "code",
      "source": [
        "_ = log.plot()\n",
        "plt.ylabel('Negative log likelihood');"
      ],
      "metadata": {
        "colab": {
          "base_uri": "https://localhost:8080/",
          "height": 430
        },
        "id": "Mnnmz0uTtL67",
        "outputId": "dc89615f-07a8-4250-fd12-ad9a0210ba4e"
      },
      "execution_count": null,
      "outputs": [
        {
          "output_type": "display_data",
          "data": {
            "text/plain": [
              "<Figure size 640x480 with 1 Axes>"
            ],
            "image/png": "[encoded data removed]"
          },
          "metadata": {}
        }
      ]
    },
    {
      "cell_type": "code",
      "source": [
        "model_Coxtime.partial_log_likelihood(*val).mean()"
      ],
      "metadata": {
        "colab": {
          "base_uri": "https://localhost:8080/"
        },
        "id": "oYxsPdN8tYhs",
        "outputId": "9b16820c-1185-435f-d251-9dddc44e6146"
      },
      "execution_count": null,
      "outputs": [
        {
          "output_type": "execute_result",
          "data": {
            "text/plain": [
              "-5.244916"
            ]
          },
          "metadata": {},
          "execution_count": 136
        }
      ]
    },
    {
      "cell_type": "markdown",
      "source": [
        "## Prediction"
      ],
      "metadata": {
        "id": "NJcvXvHs0zjf"
      }
    },
    {
      "cell_type": "code",
      "source": [
        "lambda_0 = model_Coxtime.compute_baseline_hazards() # Baseline hazard function (Beslow estimaton)\n",
        "surv = model_Coxtime.predict_surv_df(x_test)\n",
        "surv.iloc[:, :5].plot()\n",
        "plt.ylabel('S(t | x)')\n",
        "_ = plt.xlabel('Time')"
      ],
      "metadata": {
        "colab": {
          "base_uri": "https://localhost:8080/",
          "height": 449
        },
        "id": "OWeAOMnktfw_",
        "outputId": "9c1d559c-1dcc-4b05-8a15-de6a7af11fd4"
      },
      "execution_count": null,
      "outputs": [
        {
          "output_type": "display_data",
          "data": {
            "text/plain": [
              "<Figure size 640x480 with 1 Axes>"
            ],
            "image/png": "[encoded data removed]"
          },
          "metadata": {}
        }
      ]
    },
    {
      "cell_type": "markdown",
      "source": [
        "## Evaluation"
      ],
      "metadata": {
        "id": "45KhbYG-xKg7"
      }
    },
    {
      "cell_type": "code",
      "source": [
        "ev = EvalSurv(surv, durations_test, events_test, censor_surv='km')"
      ],
      "metadata": {
        "id": "H4w804V5xPpA"
      },
      "execution_count": null,
      "outputs": []
    },
    {
      "cell_type": "code",
      "source": [
        "print(\"C-index: {:.2f}\".format(ev.concordance_td()))\n",
        "time_grid = np.linspace(durations_test.min(), durations_test.max(), 100)\n",
        "_ = ev.brier_score(time_grid).plot(xlabel=\"Time\", ylabel=\"Brier score\")"
      ],
      "metadata": {
        "colab": {
          "base_uri": "https://localhost:8080/",
          "height": 467
        },
        "id": "OEFoxuwMxT7K",
        "outputId": "914a6cef-fa5c-4449-c33b-3a9d4a7ea248"
      },
      "execution_count": null,
      "outputs": [
        {
          "output_type": "stream",
          "name": "stdout",
          "text": [
            "C-index: 0.66\n"
          ]
        },
        {
          "output_type": "display_data",
          "data": {
            "text/plain": [
              "<Figure size 640x480 with 1 Axes>"
            ],
            "image/png": "[encoded data removed]"
          },
          "metadata": {}
        }
      ]
    },
    {
      "cell_type": "code",
      "source": [
        "cph.baseline_survival_.plot()\n",
        "plt.ylabel('S(t|x) with Cox')\n",
        "_ = plt.xlabel('Time')"
      ],
      "metadata": {
        "colab": {
          "base_uri": "https://localhost:8080/",
          "height": 449
        },
        "id": "vk4PIWvEFa6w",
        "outputId": "402f4f09-7fcb-41d7-d1dc-a1d48359d155"
      },
      "execution_count": null,
      "outputs": [
        {
          "output_type": "display_data",
          "data": {
            "text/plain": [
              "<Figure size 640x480 with 1 Axes>"
            ],
            "image/png": "[encoded data removed]"
          },
          "metadata": {}
        }
      ]
    },
    {
      "cell_type": "code",
      "source": [],
      "metadata": {
        "id": "_UUUnjtbFhLF"
      },
      "execution_count": null,
      "outputs": []
    }
  ]
}